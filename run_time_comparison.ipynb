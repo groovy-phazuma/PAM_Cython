{
 "cells": [
  {
   "cell_type": "markdown",
   "metadata": {},
   "source": [
    "#### Run time comparison (Cython vs Python)\n",
    "1. PAM with Cython.\n",
    "2. PAM with Python only."
   ]
  },
  {
   "cell_type": "code",
   "execution_count": 1,
   "metadata": {},
   "outputs": [
    {
     "name": "stdout",
     "output_type": "stream",
     "text": [
      "c:\\github\\PAM_Cython\\pam_cython\n",
      "!! Pachinko Allocation Model!!\n",
      "c:\\github\\PAM_Cython\\pam_cython\n",
      "!! Pachinko Allocation Model with Python Only!!\n"
     ]
    }
   ],
   "source": [
    "import time\n",
    "import pandas as pd\n",
    "import seaborn as sns\n",
    "\n",
    "from sklearn.decomposition import LatentDirichletAllocation\n",
    "from sklearn.datasets import make_multilabel_classification\n",
    "\n",
    "import sys\n",
    "sys.path.append('C:/github/PAM_Cython')\n",
    "from pam_cython import pam\n",
    "from pam_cython import pam_python_only\n",
    "\n",
    "import lda\n",
    "import lda.datasets"
   ]
  },
  {
   "cell_type": "markdown",
   "metadata": {},
   "source": [
    "***\n",
    "##### Load benchmark dataset"
   ]
  },
  {
   "cell_type": "code",
   "execution_count": 2,
   "metadata": {},
   "outputs": [],
   "source": [
    "X = lda.datasets.load_reuters()\n",
    "vocab = lda.datasets.load_reuters_vocab()\n",
    "titles = lda.datasets.load_reuters_titles()\n",
    "X.shape\n",
    "X_df = pd.DataFrame(X,index=titles,columns=vocab)"
   ]
  },
  {
   "cell_type": "markdown",
   "metadata": {},
   "source": [
    "***\n",
    "##### 1. PAM with Cython"
   ]
  },
  {
   "cell_type": "code",
   "execution_count": 3,
   "metadata": {},
   "outputs": [
    {
     "name": "stdout",
     "output_type": "stream",
     "text": [
      "Time: 8.895 sec\n"
     ]
    }
   ],
   "source": [
    "# %% PAM with Cython\n",
    "start = time.time()\n",
    "S=5\n",
    "K=10\n",
    "dat = pam.PAM(S=S,K=K,alpha0=0.01,alpha1=0.01,beta=0.1,random_state=123)\n",
    "dat.freq_df2bw(freq_df=X_df)\n",
    "dat.set_params(seed_topics={},initial_conf=1.0)\n",
    "dat.inference()\n",
    "\n",
    "upper_doc_topic = pd.DataFrame(dat.get_theta0(),index=X_df.index,columns=['Topic {}'.format(i) for i in range(S)])\n",
    "lower_doc_topic = pd.DataFrame(dat.get_theta1(),index=X_df.index,columns=['Topic {}'.format(i) for i in range(K)])\n",
    "lower_topic_word = pd.DataFrame(dat.get_phi(),index=['Topic {}'.format(i) for i in range(K)],columns = X_df.columns)\n",
    "\n",
    "end = time.time()\n",
    "diff = end-start\n",
    "print('Time: {} sec'.format(round(diff,4)))"
   ]
  },
  {
   "cell_type": "markdown",
   "metadata": {},
   "source": [
    "***\n",
    "##### 2. PAM with Python only"
   ]
  },
  {
   "cell_type": "code",
   "execution_count": 4,
   "metadata": {},
   "outputs": [
    {
     "name": "stdout",
     "output_type": "stream",
     "text": [
      "Time: 82.8631 sec\n"
     ]
    }
   ],
   "source": [
    "# %% PAM with Python Only\n",
    "start = time.time()\n",
    "S=5\n",
    "K=10\n",
    "dat = pam_python_only.PAM(S=S,K=K,alpha0=0.01,alpha1=0.01,beta=0.1,random_state=123)\n",
    "dat.freq_df2bw(freq_df=X_df)\n",
    "dat.set_params(seed_topics={},initial_conf=1.0)\n",
    "dat.inference()\n",
    "\n",
    "upper_doc_topic = pd.DataFrame(dat.get_theta0(),index=X_df.index,columns=['Topic {}'.format(i) for i in range(S)])\n",
    "lower_doc_topic = pd.DataFrame(dat.get_theta1(),index=X_df.index,columns=['Topic {}'.format(i) for i in range(K)])\n",
    "\n",
    "lower_topic_word = pd.DataFrame(dat.get_phi(),index=['Topic {}'.format(i) for i in range(K)],columns = X_df.columns)\n",
    "\n",
    "end = time.time()\n",
    "diff = end-start\n",
    "print('Time: {} sec'.format(round(diff,4)))"
   ]
  },
  {
   "cell_type": "markdown",
   "metadata": {},
   "source": [
    "| Cython   | Python Only | \n",
    "| -------- | ----------- | \n",
    "| 8.90 sec | 82.86 sec   | "
   ]
  }
 ],
 "metadata": {
  "kernelspec": {
   "display_name": "Python 3",
   "language": "python",
   "name": "python3"
  },
  "language_info": {
   "codemirror_mode": {
    "name": "ipython",
    "version": 3
   },
   "file_extension": ".py",
   "mimetype": "text/x-python",
   "name": "python",
   "nbconvert_exporter": "python",
   "pygments_lexer": "ipython3",
   "version": "3.8.0"
  }
 },
 "nbformat": 4,
 "nbformat_minor": 2
}
